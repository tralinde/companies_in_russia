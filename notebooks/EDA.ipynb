{
 "cells": [
  {
   "attachments": {},
   "cell_type": "markdown",
   "metadata": {},
   "source": [
    "### EDA For Companies in Russia Data Set"
   ]
  },
  {
   "cell_type": "code",
   "execution_count": 47,
   "metadata": {},
   "outputs": [],
   "source": [
    "import pandas as pd\n",
    "import matplotlib.pyplot as plt\n",
    "import seaborn as sns\n",
    "import matplotlib"
   ]
  },
  {
   "cell_type": "code",
   "execution_count": 48,
   "metadata": {},
   "outputs": [
    {
     "data": {
      "text/html": [
       "<div>\n",
       "<style scoped>\n",
       "    .dataframe tbody tr th:only-of-type {\n",
       "        vertical-align: middle;\n",
       "    }\n",
       "\n",
       "    .dataframe tbody tr th {\n",
       "        vertical-align: top;\n",
       "    }\n",
       "\n",
       "    .dataframe thead th {\n",
       "        text-align: right;\n",
       "    }\n",
       "</style>\n",
       "<table border=\"1\" class=\"dataframe\">\n",
       "  <thead>\n",
       "    <tr style=\"text-align: right;\">\n",
       "      <th></th>\n",
       "      <th>Name</th>\n",
       "      <th>Action</th>\n",
       "      <th>Industry</th>\n",
       "      <th>Country</th>\n",
       "      <th>Grade</th>\n",
       "    </tr>\n",
       "  </thead>\n",
       "  <tbody>\n",
       "    <tr>\n",
       "      <th>0</th>\n",
       "      <td>Agrana</td>\n",
       "      <td>continue operating plant in Russia</td>\n",
       "      <td>Consumer Staples</td>\n",
       "      <td>Austria</td>\n",
       "      <td>F</td>\n",
       "    </tr>\n",
       "    <tr>\n",
       "      <th>1</th>\n",
       "      <td>Agricultural Bank of China</td>\n",
       "      <td>Russian companies open accounts with the bank;...</td>\n",
       "      <td>Financials</td>\n",
       "      <td>China</td>\n",
       "      <td>F</td>\n",
       "    </tr>\n",
       "    <tr>\n",
       "      <th>2</th>\n",
       "      <td>Air China</td>\n",
       "      <td>still flying to Russia</td>\n",
       "      <td>Industrials</td>\n",
       "      <td>China</td>\n",
       "      <td>F</td>\n",
       "    </tr>\n",
       "    <tr>\n",
       "      <th>3</th>\n",
       "      <td>Air Serbia</td>\n",
       "      <td>still flying to Russia</td>\n",
       "      <td>Industrials</td>\n",
       "      <td>Serbia</td>\n",
       "      <td>F</td>\n",
       "    </tr>\n",
       "    <tr>\n",
       "      <th>4</th>\n",
       "      <td>Alibaba</td>\n",
       "      <td>still operating in Russia</td>\n",
       "      <td>Consumer Discretionary</td>\n",
       "      <td>China</td>\n",
       "      <td>F</td>\n",
       "    </tr>\n",
       "  </tbody>\n",
       "</table>\n",
       "</div>"
      ],
      "text/plain": [
       "                         Name  \\\n",
       "0                      Agrana   \n",
       "1  Agricultural Bank of China   \n",
       "2                   Air China   \n",
       "3                  Air Serbia   \n",
       "4                     Alibaba   \n",
       "\n",
       "                                              Action                Industry  \\\n",
       "0                 continue operating plant in Russia        Consumer Staples   \n",
       "1  Russian companies open accounts with the bank;...              Financials   \n",
       "2                             still flying to Russia             Industrials   \n",
       "3                             still flying to Russia             Industrials   \n",
       "4                          still operating in Russia  Consumer Discretionary   \n",
       "\n",
       "   Country Grade  \n",
       "0  Austria     F  \n",
       "1    China     F  \n",
       "2    China     F  \n",
       "3   Serbia     F  \n",
       "4    China     F  "
      ]
     },
     "execution_count": 48,
     "metadata": {},
     "output_type": "execute_result"
    }
   ],
   "source": [
    "country_data = pd.read_csv('../data/companies.csv')\n",
    "country_data.head()"
   ]
  },
  {
   "cell_type": "code",
   "execution_count": 49,
   "metadata": {},
   "outputs": [
    {
     "data": {
      "text/html": [
       "<div>\n",
       "<style scoped>\n",
       "    .dataframe tbody tr th:only-of-type {\n",
       "        vertical-align: middle;\n",
       "    }\n",
       "\n",
       "    .dataframe tbody tr th {\n",
       "        vertical-align: top;\n",
       "    }\n",
       "\n",
       "    .dataframe thead th {\n",
       "        text-align: right;\n",
       "    }\n",
       "</style>\n",
       "<table border=\"1\" class=\"dataframe\">\n",
       "  <thead>\n",
       "    <tr style=\"text-align: right;\">\n",
       "      <th></th>\n",
       "      <th>Name</th>\n",
       "      <th>Action</th>\n",
       "      <th>Industry</th>\n",
       "      <th>Country</th>\n",
       "      <th>Grade</th>\n",
       "    </tr>\n",
       "  </thead>\n",
       "  <tbody>\n",
       "    <tr>\n",
       "      <th>count</th>\n",
       "      <td>1581</td>\n",
       "      <td>1581</td>\n",
       "      <td>1581</td>\n",
       "      <td>1581</td>\n",
       "      <td>1581</td>\n",
       "    </tr>\n",
       "    <tr>\n",
       "      <th>unique</th>\n",
       "      <td>1581</td>\n",
       "      <td>1128</td>\n",
       "      <td>12</td>\n",
       "      <td>67</td>\n",
       "      <td>5</td>\n",
       "    </tr>\n",
       "    <tr>\n",
       "      <th>top</th>\n",
       "      <td>Agrana</td>\n",
       "      <td>still operating in Russia</td>\n",
       "      <td>Industrials</td>\n",
       "      <td>United States</td>\n",
       "      <td>A</td>\n",
       "    </tr>\n",
       "    <tr>\n",
       "      <th>freq</th>\n",
       "      <td>1</td>\n",
       "      <td>53</td>\n",
       "      <td>403</td>\n",
       "      <td>457</td>\n",
       "      <td>521</td>\n",
       "    </tr>\n",
       "  </tbody>\n",
       "</table>\n",
       "</div>"
      ],
      "text/plain": [
       "          Name                     Action     Industry        Country Grade\n",
       "count     1581                       1581         1581           1581  1581\n",
       "unique    1581                       1128           12             67     5\n",
       "top     Agrana  still operating in Russia  Industrials  United States     A\n",
       "freq         1                         53          403            457   521"
      ]
     },
     "execution_count": 49,
     "metadata": {},
     "output_type": "execute_result"
    }
   ],
   "source": [
    "country_data.describe()"
   ]
  },
  {
   "cell_type": "code",
   "execution_count": 53,
   "metadata": {},
   "outputs": [
    {
     "name": "stdout",
     "output_type": "stream",
     "text": [
      "Industrials               25.49\n",
      "Consumer Discretionary    19.80\n",
      "Information Technology    12.33\n",
      "Consumer Staples          10.56\n",
      "Financials                 8.22\n",
      "Materials                  6.14\n",
      "Communication Services     4.62\n",
      "Health Care                4.43\n",
      "Energy                     3.92\n",
      "NGO                        2.53\n",
      "Utilities                  1.08\n",
      "Real Estate                0.89\n",
      "Name: Industry, dtype: float64\n"
     ]
    }
   ],
   "source": [
    "industry_counts = country_data['Industry'].value_counts()\n",
    "total_companies = len(country_data)\n",
    "\n",
    "industry_percentages = industry_counts / total_companies * 100\n",
    "print(round(industry_percentages, 2))"
   ]
  },
  {
   "cell_type": "code",
   "execution_count": null,
   "metadata": {},
   "outputs": [
    {
     "data": {
      "text/plain": [
       "Text(0, 0.5, 'Percentage of Total')"
      ]
     },
     "execution_count": 41,
     "metadata": {},
     "output_type": "execute_result"
    },
    {
     "data": {
      "image/png": "[encoded data removed]",
      "text/plain": [
       "<Figure size 640x480 with 1 Axes>"
      ]
     },
     "metadata": {},
     "output_type": "display_data"
    }
   ],
   "source": [
    "industry_percentages.plot(kind='bar')\n",
    "\n",
    "plt.title('Percent Share of Foreign Companies in Russia')\n",
    "plt.xlabel('Type of Industry')\n",
    "plt.ylabel('Percentage of Total')"
   ]
  },
  {
   "attachments": {},
   "cell_type": "markdown",
   "metadata": {},
   "source": [
    "The above chart demonstrates a question about the research.  How best to demonstrate which company industries are significant outliers for behavior given their share of the total industry.  i.e. Industrials are the primary foreign company in Russia and so it looks in each letter grade that they are the highest represented category."
   ]
  },
  {
   "attachments": {},
   "cell_type": "markdown",
   "metadata": {},
   "source": [
    "Now I want to narrow my focus to the top six industries."
   ]
  },
  {
   "cell_type": "code",
   "execution_count": null,
   "metadata": {},
   "outputs": [],
   "source": [
    "top_industries = industry_counts.head(6).index.tolist()\n",
    "\n",
    "focused_data = country_data[country_data['Industry'].isin(top_industries)]\n",
    "\n",
    "#Verify that this only shows data from the six biggest categories: Industrials, Consumer Disc., IT, Consumer Staples, Financials, Materials\n",
    "print(focused_data.head(30))"
   ]
  },
  {
   "cell_type": "code",
   "execution_count": 55,
   "metadata": {},
   "outputs": [
    {
     "name": "stdout",
     "output_type": "stream",
     "text": [
      "Industrials               30.88\n",
      "Consumer Discretionary    23.98\n",
      "Information Technology    14.94\n",
      "Consumer Staples          12.80\n",
      "Financials                 9.96\n",
      "Materials                  7.43\n",
      "Name: Industry, dtype: float64\n"
     ]
    }
   ],
   "source": [
    "#Recalculate Data to show percentages of total with only these six categories\n",
    "top_six_industries = focused_data['Industry'].value_counts()\n",
    "top_six_percentages = top_six_industries / len(focused_data) * 100\n",
    "\n",
    "print(round(top_six_percentages, 2))"
   ]
  },
  {
   "cell_type": "code",
   "execution_count": 58,
   "metadata": {},
   "outputs": [
    {
     "data": {
      "text/plain": [
       "Text(0, 0.5, 'Percentage of Total')"
      ]
     },
     "execution_count": 58,
     "metadata": {},
     "output_type": "execute_result"
    },
    {
     "data": {
      "image/png": "[encoded data removed]",
      "text/plain": [
       "<Figure size 640x480 with 1 Axes>"
      ]
     },
     "metadata": {},
     "output_type": "display_data"
    }
   ],
   "source": [
    "top_six_percentages.plot(kind='bar')\n",
    "\n",
    "plt. title('Percent Share of Foreign Owned Industries in Russia')\n",
    "plt.xlabel('Type of Industry')\n",
    "plt.ylabel('Percentage of Total')"
   ]
  },
  {
   "cell_type": "code",
   "execution_count": null,
   "metadata": {},
   "outputs": [],
   "source": [
    "\"This code groups by industry and shows how many of each grade that industry received.\"\n",
    "\n",
    "industry_grades = country_data.groupby('Industry')['Grade'].value_counts()\n",
    "print(industry_grades)"
   ]
  },
  {
   "cell_type": "code",
   "execution_count": null,
   "metadata": {},
   "outputs": [],
   "source": [
    "industry_percentages.plot(kind='bar')\n",
    "\n",
    "plt.title('Percent Share of Foreign Companies in Russia')\n",
    "plt.xlabel('Type of Industry')\n",
    "plt.ylabel('Percentage of Total')"
   ]
  },
  {
   "attachments": {},
   "cell_type": "markdown",
   "metadata": {},
   "source": [
    "The below is somewhat redundant at this juncture, I need to show this data as a percentage of the total and not of a number."
   ]
  },
  {
   "cell_type": "code",
   "execution_count": null,
   "metadata": {},
   "outputs": [],
   "source": [
    "industry_grades = country_data.groupby(['Industry', 'Grade'])['Grade'].value_counts().sort_values(ascending=False)\n",
    "print(industry_grades)\n"
   ]
  },
  {
   "cell_type": "code",
   "execution_count": null,
   "metadata": {},
   "outputs": [
    {
     "data": {
      "text/plain": [
       "Industry\n",
       "Communication Services     26\n",
       "Consumer Discretionary     88\n",
       "Consumer Staples           54\n",
       "Energy                     21\n",
       "Financials                 45\n",
       "Health Care                 3\n",
       "Industrials               151\n",
       "Information Technology     64\n",
       "Materials                  35\n",
       "NGO                        21\n",
       "Real Estate                 6\n",
       "Utilities                   7\n",
       "Name: Grade, dtype: int64"
      ]
     },
     "execution_count": 23,
     "metadata": {},
     "output_type": "execute_result"
    }
   ],
   "source": [
    "#Grade A By the numbers\n",
    "\n",
    "grade_A = country_data[country_data['Grade'] == 'A'].groupby('Industry')['Grade'].count()\n",
    "grade_A"
   ]
  },
  {
   "cell_type": "code",
   "execution_count": null,
   "metadata": {},
   "outputs": [
    {
     "data": {
      "text/plain": [
       "Industry\n",
       "Communication Services     28\n",
       "Consumer Discretionary    130\n",
       "Consumer Staples           41\n",
       "Energy                      8\n",
       "Financials                 35\n",
       "Health Care                10\n",
       "Industrials               118\n",
       "Information Technology     93\n",
       "Materials                  19\n",
       "NGO                        16\n",
       "Real Estate                 3\n",
       "Utilities                   2\n",
       "Name: Grade, dtype: int64"
      ]
     },
     "execution_count": 32,
     "metadata": {},
     "output_type": "execute_result"
    }
   ],
   "source": [
    "grade_B = country_data[country_data['Grade'] == 'B'].groupby('Industry')['Grade'].count()\n",
    "grade_B"
   ]
  },
  {
   "cell_type": "code",
   "execution_count": null,
   "metadata": {},
   "outputs": [
    {
     "data": {
      "text/plain": [
       "Industry\n",
       "Communication Services     7\n",
       "Consumer Discretionary    23\n",
       "Consumer Staples          11\n",
       "Energy                     7\n",
       "Financials                24\n",
       "Health Care                7\n",
       "Industrials               38\n",
       "Information Technology    15\n",
       "Materials                 13\n",
       "Real Estate                1\n",
       "Utilities                  3\n",
       "Name: Grade, dtype: int64"
      ]
     },
     "execution_count": 34,
     "metadata": {},
     "output_type": "execute_result"
    }
   ],
   "source": [
    "grade_C = country_data[country_data['Grade'] == 'C'].groupby('Industry')['Grade'].count()\n",
    "grade_C"
   ]
  },
  {
   "cell_type": "code",
   "execution_count": null,
   "metadata": {},
   "outputs": [
    {
     "data": {
      "text/plain": [
       "Industry\n",
       "Communication Services     4\n",
       "Consumer Discretionary    21\n",
       "Consumer Staples          38\n",
       "Energy                    10\n",
       "Financials                11\n",
       "Health Care               32\n",
       "Industrials               32\n",
       "Information Technology    11\n",
       "Materials                 12\n",
       "NGO                        3\n",
       "Utilities                  2\n",
       "Name: Grade, dtype: int64"
      ]
     },
     "execution_count": 35,
     "metadata": {},
     "output_type": "execute_result"
    }
   ],
   "source": [
    "grade_D = country_data[country_data['Grade'] == 'D'].groupby('Industry')['Grade'].count()\n",
    "grade_D"
   ]
  },
  {
   "cell_type": "code",
   "execution_count": null,
   "metadata": {},
   "outputs": [
    {
     "data": {
      "text/plain": [
       "Industry\n",
       "Communication Services     8\n",
       "Consumer Discretionary    51\n",
       "Consumer Staples          23\n",
       "Energy                    16\n",
       "Financials                15\n",
       "Health Care               18\n",
       "Industrials               64\n",
       "Information Technology    12\n",
       "Materials                 18\n",
       "Real Estate                4\n",
       "Utilities                  3\n",
       "Name: Grade, dtype: int64"
      ]
     },
     "execution_count": 36,
     "metadata": {},
     "output_type": "execute_result"
    }
   ],
   "source": [
    "grade_F = country_data[country_data['Grade'] == 'F'].groupby('Industry')['Grade'].count()\n",
    "grade_F"
   ]
  }
 ],
 "metadata": {
  "kernelspec": {
   "display_name": "base",
   "language": "python",
   "name": "python3"
  },
  "language_info": {
   "codemirror_mode": {
    "name": "ipython",
    "version": 3
   },
   "file_extension": ".py",
   "mimetype": "text/x-python",
   "name": "python",
   "nbconvert_exporter": "python",
   "pygments_lexer": "ipython3",
   "version": "3.10.11"
  },
  "orig_nbformat": 4
 },
 "nbformat": 4,
 "nbformat_minor": 2
}
